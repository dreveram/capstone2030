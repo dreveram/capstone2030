{
 "cells": [
  {
   "cell_type": "markdown",
   "metadata": {},
   "source": [
    "#### Importamos librerías"
   ]
  },
  {
   "cell_type": "code",
   "execution_count": 58,
   "metadata": {},
   "outputs": [
    {
     "name": "stdout",
     "output_type": "stream",
     "text": [
      "Requirement already satisfied: pycountry in c:\\users\\andre\\appdata\\local\\programs\\python\\python312\\lib\\site-packages (23.12.7)\n"
     ]
    },
    {
     "name": "stderr",
     "output_type": "stream",
     "text": [
      "\n",
      "[notice] A new release of pip is available: 23.2.1 -> 23.3.2\n",
      "[notice] To update, run: python.exe -m pip install --upgrade pip\n"
     ]
    }
   ],
   "source": [
    "# Instalar pycountry la primera vez. Tened en cuenta pip3. Desanotar.\n",
    "!pip install pycountry"
   ]
  },
  {
   "cell_type": "code",
   "execution_count": 124,
   "metadata": {},
   "outputs": [],
   "source": [
    "import os\n",
    "import pandas as pd\n",
    "import pycountry\n",
    "import matplotlib.pyplot as plt\n",
    "import seaborn as sns\n",
    "import numpy as np"
   ]
  },
  {
   "cell_type": "markdown",
   "metadata": {},
   "source": [
    "#### Creación de dataframe de trabajo"
   ]
  },
  {
   "cell_type": "code",
   "execution_count": 61,
   "metadata": {},
   "outputs": [],
   "source": [
    "CWD = os.getcwd()\n",
    "DATA_PATH = r'Users\\andre\\OneDrive\\Documentos\\BOOTCAMP\\Capstone Project\\capstone2030\\data'\n",
    "ruta_data = os.path.join(CWD, 'data')\n"
   ]
  },
  {
   "cell_type": "code",
   "execution_count": 62,
   "metadata": {},
   "outputs": [],
   "source": [
    "archivos_excel = [archivo for archivo in os.listdir(ruta_data) if archivo.endswith('.xlsx')]\n",
    "lista_dataframes = []\n",
    "# Iterar sobre cada archivo y cargarlo como DataFrame\n",
    "for archivo in archivos_excel:\n",
    "    nombre_variable = os.path.splitext(archivo)[0]  # Utiliza el nombre del archivo (sin extensión) como nombre de la variable\n",
    "    ruta_completa = os.path.join(ruta_data, archivo)\n",
    "\n",
    "    \n",
    "    # Asigna el DataFrame directamente a una variable con el mismo nombre que el archivo\n",
    "    globals()[nombre_variable] = pd.read_excel(ruta_completa)\n",
    "\n",
    "    # Creamos una lista con todos los dataframes\n",
    "    lista_dataframes.append(globals()[nombre_variable])\n",
    "    \n",
    "    # Añade las columnas año y sexo\n",
    "    año, sexo = nombre_variable.split('_')[1:]\n",
    "    globals()[nombre_variable]['Año'] = año\n",
    "    globals()[nombre_variable]['Sexo'] = sexo\n",
    "\n",
    "#Creamos el dataframe con todos los datos\n",
    "df = pd.concat(lista_dataframes, ignore_index=True)\n"
   ]
  },
  {
   "cell_type": "code",
   "execution_count": 63,
   "metadata": {},
   "outputs": [],
   "source": [
    "df['Año'] = df['Año'].astype('int')"
   ]
  },
  {
   "cell_type": "code",
   "execution_count": 64,
   "metadata": {},
   "outputs": [],
   "source": [
    "import pycountry \n",
    "def get_country_code(columna): #Creamos una función para conseguir el código de dos letras de cada país\n",
    "    country_info = pycountry.countries.get(name=columna)\n",
    "    if country_info:\n",
    "        return country_info.alpha_2\n",
    "    else:\n",
    "        return 'EU'"
   ]
  },
  {
   "cell_type": "code",
   "execution_count": 65,
   "metadata": {},
   "outputs": [
    {
     "name": "stderr",
     "output_type": "stream",
     "text": [
      "<>:1: SyntaxWarning: invalid escape sequence '\\I'\n",
      "<>:1: SyntaxWarning: invalid escape sequence '\\I'\n",
      "C:\\Users\\andre\\AppData\\Local\\Temp\\ipykernel_22836\\2796709633.py:1: SyntaxWarning: invalid escape sequence '\\I'\n",
      "  df['Pais_code'] = df['Geographic region\\Individual indicators used to compute the Gender Equality Index'].apply(get_country_code)\n"
     ]
    }
   ],
   "source": [
    "df['Pais_code'] = df['Geographic region\\Individual indicators used to compute the Gender Equality Index'].apply(get_country_code)\n",
    "#Llamamos a la función pasándole la columna donde está el país"
   ]
  },
  {
   "cell_type": "code",
   "execution_count": 66,
   "metadata": {},
   "outputs": [],
   "source": [
    "GEI_PATH = r'C:\\Users\\andre\\OneDrive\\Documentos\\BOOTCAMP\\Capstone Project\\capstone2030\\data_gei'\n",
    "df_gei = pd.read_excel(os.path.join(GEI_PATH, 'gender-equality-index.xlsx'))"
   ]
  },
  {
   "cell_type": "code",
   "execution_count": 67,
   "metadata": {},
   "outputs": [],
   "source": [
    "# Cambiamos los valores EL asignados para Grecia, por GR\n",
    "df_gei['Country'] = df_gei['Country'].replace('EL', 'GR')"
   ]
  },
  {
   "cell_type": "code",
   "execution_count": 68,
   "metadata": {},
   "outputs": [],
   "source": [
    "# Añadimos la columna GEI al dataframe\n",
    "df1 = pd.merge(df, df_gei, left_on=['Pais_code', 'Año'], right_on=['Country', 'Index year'], how='left')"
   ]
  },
  {
   "cell_type": "code",
   "execution_count": 69,
   "metadata": {},
   "outputs": [],
   "source": [
    "df1.to_excel(r'C:\\Users\\andre\\OneDrive\\Documentos\\BOOTCAMP\\Capstone Project\\capstone2030\\df1.xlsx', index=False)"
   ]
  },
  {
   "cell_type": "code",
   "execution_count": 70,
   "metadata": {},
   "outputs": [
    {
     "data": {
      "text/html": [
       "<div>\n",
       "<style scoped>\n",
       "    .dataframe tbody tr th:only-of-type {\n",
       "        vertical-align: middle;\n",
       "    }\n",
       "\n",
       "    .dataframe tbody tr th {\n",
       "        vertical-align: top;\n",
       "    }\n",
       "\n",
       "    .dataframe thead th {\n",
       "        text-align: right;\n",
       "    }\n",
       "</style>\n",
       "<table border=\"1\" class=\"dataframe\">\n",
       "  <thead>\n",
       "    <tr style=\"text-align: right;\">\n",
       "      <th></th>\n",
       "      <th>Geographic region\\Individual indicators used to compute the Gender Equality Index</th>\n",
       "      <th>FTE employment rate (%,  15+ population)</th>\n",
       "      <th>Duration of working life (years, 15+ population)</th>\n",
       "      <th>Employed people in Education, Human Health and Social Work activities (%, 15+ employed)</th>\n",
       "      <th>Ability to take an hour or two off during working hours to take care of personal or family matters (%, 15+ workers)</th>\n",
       "      <th>Career Prospects Index (points, 0-100)</th>\n",
       "      <th>Mean monthly earnings (PPS, working population)</th>\n",
       "      <th>Mean equivalised net income (PPS, 16+ population)</th>\n",
       "      <th>At-risk-of-poverty rate (%, 16+ population)</th>\n",
       "      <th>S20/S80 income quintile share (16+ population)</th>\n",
       "      <th>...</th>\n",
       "      <th>People who don’t smoke and are not involved in harmful drinking (%, 16+ population)</th>\n",
       "      <th>People doing physical activities and/or consuming fruits and vegetables (%, 16+ population)</th>\n",
       "      <th>Population with unmet needs for medical examination (%, 16+ population)</th>\n",
       "      <th>People with unmet needs for dental examination (%, 16+ population)</th>\n",
       "      <th>Año</th>\n",
       "      <th>Sexo</th>\n",
       "      <th>Pais_code</th>\n",
       "      <th>Index year</th>\n",
       "      <th>Country</th>\n",
       "      <th>Gender Equality Index</th>\n",
       "    </tr>\n",
       "  </thead>\n",
       "  <tbody>\n",
       "    <tr>\n",
       "      <th>0</th>\n",
       "      <td>Austria</td>\n",
       "      <td>62</td>\n",
       "      <td>39</td>\n",
       "      <td>8</td>\n",
       "      <td>36</td>\n",
       "      <td>65</td>\n",
       "      <td>2574</td>\n",
       "      <td>23107</td>\n",
       "      <td>12</td>\n",
       "      <td>23</td>\n",
       "      <td>...</td>\n",
       "      <td>53</td>\n",
       "      <td>55</td>\n",
       "      <td>3</td>\n",
       "      <td>6</td>\n",
       "      <td>2013</td>\n",
       "      <td>men</td>\n",
       "      <td>AT</td>\n",
       "      <td>2013</td>\n",
       "      <td>AT</td>\n",
       "      <td>58.669621</td>\n",
       "    </tr>\n",
       "    <tr>\n",
       "      <th>1</th>\n",
       "      <td>Belgium</td>\n",
       "      <td>54</td>\n",
       "      <td>35</td>\n",
       "      <td>11</td>\n",
       "      <td>33</td>\n",
       "      <td>66</td>\n",
       "      <td>2835</td>\n",
       "      <td>19734</td>\n",
       "      <td>13</td>\n",
       "      <td>25</td>\n",
       "      <td>...</td>\n",
       "      <td>50</td>\n",
       "      <td>36</td>\n",
       "      <td>1</td>\n",
       "      <td>3</td>\n",
       "      <td>2013</td>\n",
       "      <td>men</td>\n",
       "      <td>BE</td>\n",
       "      <td>2013</td>\n",
       "      <td>BE</td>\n",
       "      <td>69.255331</td>\n",
       "    </tr>\n",
       "    <tr>\n",
       "      <th>2</th>\n",
       "      <td>Bulgaria</td>\n",
       "      <td>51</td>\n",
       "      <td>33</td>\n",
       "      <td>4</td>\n",
       "      <td>31</td>\n",
       "      <td>62</td>\n",
       "      <td>827</td>\n",
       "      <td>7027</td>\n",
       "      <td>18</td>\n",
       "      <td>19</td>\n",
       "      <td>...</td>\n",
       "      <td>47</td>\n",
       "      <td>18</td>\n",
       "      <td>14</td>\n",
       "      <td>15</td>\n",
       "      <td>2013</td>\n",
       "      <td>men</td>\n",
       "      <td>BG</td>\n",
       "      <td>2013</td>\n",
       "      <td>BG</td>\n",
       "      <td>55.038562</td>\n",
       "    </tr>\n",
       "    <tr>\n",
       "      <th>3</th>\n",
       "      <td>Cyprus</td>\n",
       "      <td>65</td>\n",
       "      <td>41</td>\n",
       "      <td>6</td>\n",
       "      <td>18</td>\n",
       "      <td>51</td>\n",
       "      <td>2503</td>\n",
       "      <td>21851</td>\n",
       "      <td>14</td>\n",
       "      <td>22</td>\n",
       "      <td>...</td>\n",
       "      <td>54</td>\n",
       "      <td>39</td>\n",
       "      <td>6</td>\n",
       "      <td>14</td>\n",
       "      <td>2013</td>\n",
       "      <td>men</td>\n",
       "      <td>CY</td>\n",
       "      <td>2013</td>\n",
       "      <td>CY</td>\n",
       "      <td>48.986893</td>\n",
       "    </tr>\n",
       "    <tr>\n",
       "      <th>4</th>\n",
       "      <td>Czechia</td>\n",
       "      <td>63</td>\n",
       "      <td>37</td>\n",
       "      <td>5</td>\n",
       "      <td>11</td>\n",
       "      <td>65</td>\n",
       "      <td>1438</td>\n",
       "      <td>11357</td>\n",
       "      <td>7</td>\n",
       "      <td>30</td>\n",
       "      <td>...</td>\n",
       "      <td>54</td>\n",
       "      <td>37</td>\n",
       "      <td>4</td>\n",
       "      <td>5</td>\n",
       "      <td>2013</td>\n",
       "      <td>men</td>\n",
       "      <td>CZ</td>\n",
       "      <td>2013</td>\n",
       "      <td>CZ</td>\n",
       "      <td>55.569285</td>\n",
       "    </tr>\n",
       "  </tbody>\n",
       "</table>\n",
       "<p>5 rows × 38 columns</p>\n",
       "</div>"
      ],
      "text/plain": [
       "  Geographic region\\Individual indicators used to compute the Gender Equality Index  \\\n",
       "0                                            Austria                                  \n",
       "1                                            Belgium                                  \n",
       "2                                           Bulgaria                                  \n",
       "3                                             Cyprus                                  \n",
       "4                                            Czechia                                  \n",
       "\n",
       "   FTE employment rate (%,  15+ population)  \\\n",
       "0                                        62   \n",
       "1                                        54   \n",
       "2                                        51   \n",
       "3                                        65   \n",
       "4                                        63   \n",
       "\n",
       "   Duration of working life (years, 15+ population)  \\\n",
       "0                                                39   \n",
       "1                                                35   \n",
       "2                                                33   \n",
       "3                                                41   \n",
       "4                                                37   \n",
       "\n",
       "   Employed people in Education, Human Health and Social Work activities (%, 15+ employed)  \\\n",
       "0                                                  8                                         \n",
       "1                                                 11                                         \n",
       "2                                                  4                                         \n",
       "3                                                  6                                         \n",
       "4                                                  5                                         \n",
       "\n",
       "   Ability to take an hour or two off during working hours to take care of personal or family matters (%, 15+ workers)  \\\n",
       "0                                                 36                                                                     \n",
       "1                                                 33                                                                     \n",
       "2                                                 31                                                                     \n",
       "3                                                 18                                                                     \n",
       "4                                                 11                                                                     \n",
       "\n",
       "   Career Prospects Index (points, 0-100)  \\\n",
       "0                                      65   \n",
       "1                                      66   \n",
       "2                                      62   \n",
       "3                                      51   \n",
       "4                                      65   \n",
       "\n",
       "   Mean monthly earnings (PPS, working population)  \\\n",
       "0                                             2574   \n",
       "1                                             2835   \n",
       "2                                              827   \n",
       "3                                             2503   \n",
       "4                                             1438   \n",
       "\n",
       "   Mean equivalised net income (PPS, 16+ population)  \\\n",
       "0                                              23107   \n",
       "1                                              19734   \n",
       "2                                               7027   \n",
       "3                                              21851   \n",
       "4                                              11357   \n",
       "\n",
       "   At-risk-of-poverty rate (%, 16+ population)  \\\n",
       "0                                           12   \n",
       "1                                           13   \n",
       "2                                           18   \n",
       "3                                           14   \n",
       "4                                            7   \n",
       "\n",
       "   S20/S80 income quintile share (16+ population)  ...  \\\n",
       "0                                              23  ...   \n",
       "1                                              25  ...   \n",
       "2                                              19  ...   \n",
       "3                                              22  ...   \n",
       "4                                              30  ...   \n",
       "\n",
       "   People who don’t smoke and are not involved in harmful drinking (%, 16+ population)  \\\n",
       "0                                                 53                                     \n",
       "1                                                 50                                     \n",
       "2                                                 47                                     \n",
       "3                                                 54                                     \n",
       "4                                                 54                                     \n",
       "\n",
       "   People doing physical activities and/or consuming fruits and vegetables (%, 16+ population)  \\\n",
       "0                                                 55                                             \n",
       "1                                                 36                                             \n",
       "2                                                 18                                             \n",
       "3                                                 39                                             \n",
       "4                                                 37                                             \n",
       "\n",
       "   Population with unmet needs for medical examination (%, 16+ population)  \\\n",
       "0                                                  3                         \n",
       "1                                                  1                         \n",
       "2                                                 14                         \n",
       "3                                                  6                         \n",
       "4                                                  4                         \n",
       "\n",
       "   People with unmet needs for dental examination (%, 16+ population)   Año  \\\n",
       "0                                                  6                   2013   \n",
       "1                                                  3                   2013   \n",
       "2                                                 15                   2013   \n",
       "3                                                 14                   2013   \n",
       "4                                                  5                   2013   \n",
       "\n",
       "   Sexo  Pais_code  Index year  Country  Gender Equality Index  \n",
       "0   men         AT        2013       AT              58.669621  \n",
       "1   men         BE        2013       BE              69.255331  \n",
       "2   men         BG        2013       BG              55.038562  \n",
       "3   men         CY        2013       CY              48.986893  \n",
       "4   men         CZ        2013       CZ              55.569285  \n",
       "\n",
       "[5 rows x 38 columns]"
      ]
     },
     "execution_count": 70,
     "metadata": {},
     "output_type": "execute_result"
    }
   ],
   "source": [
    "df1.head()"
   ]
  },
  {
   "cell_type": "code",
   "execution_count": 71,
   "metadata": {},
   "outputs": [],
   "source": [
    "del df1['Año']\n",
    "del df1['Pais_code']"
   ]
  },
  {
   "cell_type": "code",
   "execution_count": 73,
   "metadata": {},
   "outputs": [
    {
     "name": "stdout",
     "output_type": "stream",
     "text": [
      "<class 'pandas.core.frame.DataFrame'>\n",
      "RangeIndex: 392 entries, 0 to 391\n",
      "Data columns (total 36 columns):\n",
      " #   Column                                                                                                                                 Non-Null Count  Dtype  \n",
      "---  ------                                                                                                                                 --------------  -----  \n",
      " 0   Geographic region\\Individual indicators used to compute the Gender Equality Index                                                      392 non-null    object \n",
      " 1   FTE employment rate (%,  15+ population)                                                                                               392 non-null    int64  \n",
      " 2   Duration of working life (years, 15+ population)                                                                                       392 non-null    int64  \n",
      " 3   Employed people in Education, Human Health and Social Work activities (%, 15+ employed)                                                392 non-null    int64  \n",
      " 4   Ability to take an hour or two off during working hours to take care of personal or family matters (%, 15+ workers)                    392 non-null    int64  \n",
      " 5   Career Prospects Index (points, 0-100)                                                                                                 392 non-null    int64  \n",
      " 6   Mean monthly earnings (PPS, working population)                                                                                        392 non-null    int64  \n",
      " 7   Mean equivalised net income (PPS, 16+ population)                                                                                      392 non-null    int64  \n",
      " 8   At-risk-of-poverty rate (%, 16+ population)                                                                                            392 non-null    int64  \n",
      " 9   S20/S80 income quintile share (16+ population)                                                                                         392 non-null    int64  \n",
      " 10  Graduates of tertiary education (%, 15+ population)                                                                                    392 non-null    int64  \n",
      " 11  People participating in formal or non-formal education and training (%, 15+ population)                                                392 non-null    int64  \n",
      " 12  Tertiary students in the fields of Education, Health and Welfare, Humanities and Art (tertiary students) (%, 15+ population)           392 non-null    int64  \n",
      " 13  People caring for and educating their children or grandchildren, elderly or people with disabilities, every day (% 18+ population)     392 non-null    int64  \n",
      " 14  People doing cooking and/or housework, every day (%, 18+ population)                                                                   392 non-null    int64  \n",
      " 15  Workers doing sporting, cultural or leisure activities outside of their home, at least daily or several times a week (%, 15+ workers)  392 non-null    int64  \n",
      " 16  Workers involved in voluntary or charitable activities, at least once a month (%, 15+ workers)                                         392 non-null    int64  \n",
      " 17  Share of ministers (%)                                                                                                                 392 non-null    int64  \n",
      " 18  Share of members of parliament (%)                                                                                                     392 non-null    int64  \n",
      " 19  Share of members of regional assemblies (%)                                                                                            392 non-null    int64  \n",
      " 20  Share of members of boards in largest quoted companies, supervisory board or board of directors (%)                                    392 non-null    int64  \n",
      " 21  Share of board members of central bank (%)                                                                                             392 non-null    int64  \n",
      " 22  Share of board members of research funding organisations (%)                                                                           392 non-null    int64  \n",
      " 23  Share of board members of publically owned broadcasting organisations (%)                                                              392 non-null    int64  \n",
      " 24  Share of members of highest decision making body of the national Olympic sport organisations (%)                                       392 non-null    int64  \n",
      " 25  Self-perceived health, good or very good (%, 16+ population)                                                                           392 non-null    int64  \n",
      " 26  Life expectancy in absolute value at birth (years)                                                                                     392 non-null    int64  \n",
      " 27  Healthy life years in absolute value at birth (years)                                                                                  392 non-null    int64  \n",
      " 28  People who don’t smoke and are not involved in harmful drinking (%, 16+ population)                                                    392 non-null    int64  \n",
      " 29  People doing physical activities and/or consuming fruits and vegetables (%, 16+ population)                                            392 non-null    int64  \n",
      " 30  Population with unmet needs for medical examination (%, 16+ population)                                                                392 non-null    int64  \n",
      " 31  People with unmet needs for dental examination (%, 16+ population)                                                                     392 non-null    int64  \n",
      " 32  Sexo                                                                                                                                   392 non-null    object \n",
      " 33  Index year                                                                                                                             392 non-null    int64  \n",
      " 34  Country                                                                                                                                392 non-null    object \n",
      " 35  Gender Equality Index                                                                                                                  392 non-null    float64\n",
      "dtypes: float64(1), int64(32), object(3)\n",
      "memory usage: 110.4+ KB\n"
     ]
    }
   ],
   "source": [
    "df1.info()"
   ]
  },
  {
   "cell_type": "code",
   "execution_count": 78,
   "metadata": {},
   "outputs": [],
   "source": [
    "pd.set_option('display.max_columns', None)\n",
    "pd.set_option('display.max_rows', None)"
   ]
  },
  {
   "cell_type": "code",
   "execution_count": 79,
   "metadata": {},
   "outputs": [
    {
     "data": {
      "text/html": [
       "<div>\n",
       "<style scoped>\n",
       "    .dataframe tbody tr th:only-of-type {\n",
       "        vertical-align: middle;\n",
       "    }\n",
       "\n",
       "    .dataframe tbody tr th {\n",
       "        vertical-align: top;\n",
       "    }\n",
       "\n",
       "    .dataframe thead th {\n",
       "        text-align: right;\n",
       "    }\n",
       "</style>\n",
       "<table border=\"1\" class=\"dataframe\">\n",
       "  <thead>\n",
       "    <tr style=\"text-align: right;\">\n",
       "      <th></th>\n",
       "      <th>FTE employment rate (%,  15+ population)</th>\n",
       "      <th>Duration of working life (years, 15+ population)</th>\n",
       "      <th>Employed people in Education, Human Health and Social Work activities (%, 15+ employed)</th>\n",
       "      <th>Ability to take an hour or two off during working hours to take care of personal or family matters (%, 15+ workers)</th>\n",
       "      <th>Career Prospects Index (points, 0-100)</th>\n",
       "      <th>Mean monthly earnings (PPS, working population)</th>\n",
       "      <th>Mean equivalised net income (PPS, 16+ population)</th>\n",
       "      <th>At-risk-of-poverty rate (%, 16+ population)</th>\n",
       "      <th>S20/S80 income quintile share (16+ population)</th>\n",
       "      <th>Graduates of tertiary education (%, 15+ population)</th>\n",
       "      <th>People participating in formal or non-formal education and training (%, 15+ population)</th>\n",
       "      <th>Tertiary students in the fields of Education, Health and Welfare, Humanities and Art (tertiary students) (%, 15+ population)</th>\n",
       "      <th>People caring for and educating their children or grandchildren, elderly or people with disabilities, every day (% 18+ population)</th>\n",
       "      <th>People doing cooking and/or housework, every day (%, 18+ population)</th>\n",
       "      <th>Workers doing sporting, cultural or leisure activities outside of their home, at least daily or several times a week (%, 15+ workers)</th>\n",
       "      <th>Workers involved in voluntary or charitable activities, at least once a month (%, 15+ workers)</th>\n",
       "      <th>Share of ministers (%)</th>\n",
       "      <th>Share of members of parliament (%)</th>\n",
       "      <th>Share of members of regional assemblies (%)</th>\n",
       "      <th>Share of members of boards in largest quoted companies, supervisory board or board of directors (%)</th>\n",
       "      <th>Share of board members of central bank (%)</th>\n",
       "      <th>Share of board members of research funding organisations (%)</th>\n",
       "      <th>Share of board members of publically owned broadcasting organisations (%)</th>\n",
       "      <th>Share of members of highest decision making body of the national Olympic sport organisations (%)</th>\n",
       "      <th>Self-perceived health, good or very good (%, 16+ population)</th>\n",
       "      <th>Life expectancy in absolute value at birth (years)</th>\n",
       "      <th>Healthy life years in absolute value at birth (years)</th>\n",
       "      <th>People who don’t smoke and are not involved in harmful drinking (%, 16+ population)</th>\n",
       "      <th>People doing physical activities and/or consuming fruits and vegetables (%, 16+ population)</th>\n",
       "      <th>Population with unmet needs for medical examination (%, 16+ population)</th>\n",
       "      <th>People with unmet needs for dental examination (%, 16+ population)</th>\n",
       "      <th>Index year</th>\n",
       "      <th>Gender Equality Index</th>\n",
       "    </tr>\n",
       "  </thead>\n",
       "  <tbody>\n",
       "    <tr>\n",
       "      <th>count</th>\n",
       "      <td>392.000000</td>\n",
       "      <td>392.000000</td>\n",
       "      <td>392.000000</td>\n",
       "      <td>392.000000</td>\n",
       "      <td>392.000000</td>\n",
       "      <td>392.000000</td>\n",
       "      <td>392.00000</td>\n",
       "      <td>392.000000</td>\n",
       "      <td>392.000000</td>\n",
       "      <td>392.000000</td>\n",
       "      <td>392.000000</td>\n",
       "      <td>392.000000</td>\n",
       "      <td>392.000000</td>\n",
       "      <td>392.000000</td>\n",
       "      <td>392.000000</td>\n",
       "      <td>392.000000</td>\n",
       "      <td>392.000000</td>\n",
       "      <td>392.000000</td>\n",
       "      <td>392.000000</td>\n",
       "      <td>392.000000</td>\n",
       "      <td>392.000000</td>\n",
       "      <td>392.000000</td>\n",
       "      <td>392.000000</td>\n",
       "      <td>392.000000</td>\n",
       "      <td>392.000000</td>\n",
       "      <td>392.000000</td>\n",
       "      <td>392.000000</td>\n",
       "      <td>392.000000</td>\n",
       "      <td>392.000000</td>\n",
       "      <td>392.000000</td>\n",
       "      <td>392.000000</td>\n",
       "      <td>392.000000</td>\n",
       "      <td>392.000000</td>\n",
       "    </tr>\n",
       "    <tr>\n",
       "      <th>mean</th>\n",
       "      <td>50.359694</td>\n",
       "      <td>35.359694</td>\n",
       "      <td>18.012755</td>\n",
       "      <td>26.250000</td>\n",
       "      <td>62.857143</td>\n",
       "      <td>2072.214286</td>\n",
       "      <td>17278.40051</td>\n",
       "      <td>20.869898</td>\n",
       "      <td>25.665816</td>\n",
       "      <td>25.053571</td>\n",
       "      <td>17.099490</td>\n",
       "      <td>31.535714</td>\n",
       "      <td>31.969388</td>\n",
       "      <td>54.750000</td>\n",
       "      <td>29.071429</td>\n",
       "      <td>12.252551</td>\n",
       "      <td>50.010204</td>\n",
       "      <td>50.025510</td>\n",
       "      <td>50.000000</td>\n",
       "      <td>50.076531</td>\n",
       "      <td>50.007653</td>\n",
       "      <td>50.007653</td>\n",
       "      <td>50.020408</td>\n",
       "      <td>50.000000</td>\n",
       "      <td>66.772959</td>\n",
       "      <td>79.780612</td>\n",
       "      <td>61.933673</td>\n",
       "      <td>62.451531</td>\n",
       "      <td>37.571429</td>\n",
       "      <td>5.206633</td>\n",
       "      <td>5.750000</td>\n",
       "      <td>2018.142857</td>\n",
       "      <td>63.312071</td>\n",
       "    </tr>\n",
       "    <tr>\n",
       "      <th>std</th>\n",
       "      <td>9.116787</td>\n",
       "      <td>3.875387</td>\n",
       "      <td>11.727396</td>\n",
       "      <td>10.936167</td>\n",
       "      <td>5.110543</td>\n",
       "      <td>731.696749</td>\n",
       "      <td>6556.50708</td>\n",
       "      <td>17.881420</td>\n",
       "      <td>15.203582</td>\n",
       "      <td>7.616424</td>\n",
       "      <td>7.105547</td>\n",
       "      <td>12.656539</td>\n",
       "      <td>8.333158</td>\n",
       "      <td>25.038461</td>\n",
       "      <td>14.414400</td>\n",
       "      <td>6.784215</td>\n",
       "      <td>25.030823</td>\n",
       "      <td>24.407231</td>\n",
       "      <td>24.101979</td>\n",
       "      <td>30.951480</td>\n",
       "      <td>33.075245</td>\n",
       "      <td>21.371933</td>\n",
       "      <td>23.612918</td>\n",
       "      <td>35.749984</td>\n",
       "      <td>10.054683</td>\n",
       "      <td>4.220015</td>\n",
       "      <td>4.877600</td>\n",
       "      <td>11.956130</td>\n",
       "      <td>13.310189</td>\n",
       "      <td>4.261366</td>\n",
       "      <td>4.140592</td>\n",
       "      <td>3.047787</td>\n",
       "      <td>8.698087</td>\n",
       "    </tr>\n",
       "    <tr>\n",
       "      <th>min</th>\n",
       "      <td>29.000000</td>\n",
       "      <td>22.000000</td>\n",
       "      <td>3.000000</td>\n",
       "      <td>11.000000</td>\n",
       "      <td>51.000000</td>\n",
       "      <td>633.000000</td>\n",
       "      <td>4196.00000</td>\n",
       "      <td>7.000000</td>\n",
       "      <td>12.000000</td>\n",
       "      <td>10.000000</td>\n",
       "      <td>8.000000</td>\n",
       "      <td>12.000000</td>\n",
       "      <td>12.000000</td>\n",
       "      <td>9.000000</td>\n",
       "      <td>6.000000</td>\n",
       "      <td>2.000000</td>\n",
       "      <td>0.000000</td>\n",
       "      <td>9.000000</td>\n",
       "      <td>9.000000</td>\n",
       "      <td>2.000000</td>\n",
       "      <td>0.000000</td>\n",
       "      <td>0.000000</td>\n",
       "      <td>0.000000</td>\n",
       "      <td>2.000000</td>\n",
       "      <td>38.000000</td>\n",
       "      <td>68.000000</td>\n",
       "      <td>51.000000</td>\n",
       "      <td>35.000000</td>\n",
       "      <td>6.000000</td>\n",
       "      <td>0.000000</td>\n",
       "      <td>0.000000</td>\n",
       "      <td>2013.000000</td>\n",
       "      <td>48.614853</td>\n",
       "    </tr>\n",
       "    <tr>\n",
       "      <th>25%</th>\n",
       "      <td>43.000000</td>\n",
       "      <td>33.000000</td>\n",
       "      <td>7.000000</td>\n",
       "      <td>18.000000</td>\n",
       "      <td>60.750000</td>\n",
       "      <td>1463.000000</td>\n",
       "      <td>11479.00000</td>\n",
       "      <td>13.000000</td>\n",
       "      <td>18.000000</td>\n",
       "      <td>19.000000</td>\n",
       "      <td>13.000000</td>\n",
       "      <td>19.000000</td>\n",
       "      <td>25.000000</td>\n",
       "      <td>32.000000</td>\n",
       "      <td>18.000000</td>\n",
       "      <td>7.000000</td>\n",
       "      <td>28.000000</td>\n",
       "      <td>27.000000</td>\n",
       "      <td>26.000000</td>\n",
       "      <td>20.000000</td>\n",
       "      <td>20.000000</td>\n",
       "      <td>37.000000</td>\n",
       "      <td>32.750000</td>\n",
       "      <td>13.000000</td>\n",
       "      <td>62.000000</td>\n",
       "      <td>78.000000</td>\n",
       "      <td>58.000000</td>\n",
       "      <td>53.000000</td>\n",
       "      <td>29.000000</td>\n",
       "      <td>2.000000</td>\n",
       "      <td>3.000000</td>\n",
       "      <td>2015.000000</td>\n",
       "      <td>55.781477</td>\n",
       "    </tr>\n",
       "    <tr>\n",
       "      <th>50%</th>\n",
       "      <td>50.000000</td>\n",
       "      <td>36.000000</td>\n",
       "      <td>14.000000</td>\n",
       "      <td>24.000000</td>\n",
       "      <td>64.000000</td>\n",
       "      <td>2021.000000</td>\n",
       "      <td>17788.50000</td>\n",
       "      <td>16.000000</td>\n",
       "      <td>22.000000</td>\n",
       "      <td>25.000000</td>\n",
       "      <td>15.000000</td>\n",
       "      <td>30.000000</td>\n",
       "      <td>31.000000</td>\n",
       "      <td>57.000000</td>\n",
       "      <td>25.000000</td>\n",
       "      <td>11.000000</td>\n",
       "      <td>50.000000</td>\n",
       "      <td>50.000000</td>\n",
       "      <td>50.000000</td>\n",
       "      <td>50.000000</td>\n",
       "      <td>50.000000</td>\n",
       "      <td>50.000000</td>\n",
       "      <td>50.000000</td>\n",
       "      <td>50.000000</td>\n",
       "      <td>69.000000</td>\n",
       "      <td>80.000000</td>\n",
       "      <td>62.000000</td>\n",
       "      <td>63.000000</td>\n",
       "      <td>36.000000</td>\n",
       "      <td>4.000000</td>\n",
       "      <td>5.000000</td>\n",
       "      <td>2019.000000</td>\n",
       "      <td>62.154167</td>\n",
       "    </tr>\n",
       "    <tr>\n",
       "      <th>75%</th>\n",
       "      <td>58.000000</td>\n",
       "      <td>38.000000</td>\n",
       "      <td>27.000000</td>\n",
       "      <td>33.000000</td>\n",
       "      <td>66.000000</td>\n",
       "      <td>2657.000000</td>\n",
       "      <td>22331.25000</td>\n",
       "      <td>20.000000</td>\n",
       "      <td>26.000000</td>\n",
       "      <td>30.000000</td>\n",
       "      <td>19.000000</td>\n",
       "      <td>41.250000</td>\n",
       "      <td>38.000000</td>\n",
       "      <td>79.250000</td>\n",
       "      <td>39.250000</td>\n",
       "      <td>16.000000</td>\n",
       "      <td>72.250000</td>\n",
       "      <td>73.000000</td>\n",
       "      <td>74.000000</td>\n",
       "      <td>80.000000</td>\n",
       "      <td>80.000000</td>\n",
       "      <td>63.000000</td>\n",
       "      <td>67.250000</td>\n",
       "      <td>87.000000</td>\n",
       "      <td>73.000000</td>\n",
       "      <td>83.000000</td>\n",
       "      <td>65.000000</td>\n",
       "      <td>72.000000</td>\n",
       "      <td>47.000000</td>\n",
       "      <td>7.000000</td>\n",
       "      <td>7.000000</td>\n",
       "      <td>2021.000000</td>\n",
       "      <td>70.153497</td>\n",
       "    </tr>\n",
       "    <tr>\n",
       "      <th>max</th>\n",
       "      <td>67.000000</td>\n",
       "      <td>43.000000</td>\n",
       "      <td>44.000000</td>\n",
       "      <td>56.000000</td>\n",
       "      <td>73.000000</td>\n",
       "      <td>3625.000000</td>\n",
       "      <td>39265.00000</td>\n",
       "      <td>90.000000</td>\n",
       "      <td>84.000000</td>\n",
       "      <td>45.000000</td>\n",
       "      <td>46.000000</td>\n",
       "      <td>58.000000</td>\n",
       "      <td>50.000000</td>\n",
       "      <td>89.000000</td>\n",
       "      <td>60.000000</td>\n",
       "      <td>38.000000</td>\n",
       "      <td>100.000000</td>\n",
       "      <td>91.000000</td>\n",
       "      <td>91.000000</td>\n",
       "      <td>98.000000</td>\n",
       "      <td>100.000000</td>\n",
       "      <td>100.000000</td>\n",
       "      <td>100.000000</td>\n",
       "      <td>98.000000</td>\n",
       "      <td>84.000000</td>\n",
       "      <td>87.000000</td>\n",
       "      <td>75.000000</td>\n",
       "      <td>85.000000</td>\n",
       "      <td>75.000000</td>\n",
       "      <td>22.000000</td>\n",
       "      <td>22.000000</td>\n",
       "      <td>2022.000000</td>\n",
       "      <td>83.946452</td>\n",
       "    </tr>\n",
       "  </tbody>\n",
       "</table>\n",
       "</div>"
      ],
      "text/plain": [
       "       FTE employment rate (%,  15+ population)  \\\n",
       "count                                392.000000   \n",
       "mean                                  50.359694   \n",
       "std                                    9.116787   \n",
       "min                                   29.000000   \n",
       "25%                                   43.000000   \n",
       "50%                                   50.000000   \n",
       "75%                                   58.000000   \n",
       "max                                   67.000000   \n",
       "\n",
       "       Duration of working life (years, 15+ population)  \\\n",
       "count                                        392.000000   \n",
       "mean                                          35.359694   \n",
       "std                                            3.875387   \n",
       "min                                           22.000000   \n",
       "25%                                           33.000000   \n",
       "50%                                           36.000000   \n",
       "75%                                           38.000000   \n",
       "max                                           43.000000   \n",
       "\n",
       "       Employed people in Education, Human Health and Social Work activities (%, 15+ employed)  \\\n",
       "count                                         392.000000                                         \n",
       "mean                                           18.012755                                         \n",
       "std                                            11.727396                                         \n",
       "min                                             3.000000                                         \n",
       "25%                                             7.000000                                         \n",
       "50%                                            14.000000                                         \n",
       "75%                                            27.000000                                         \n",
       "max                                            44.000000                                         \n",
       "\n",
       "       Ability to take an hour or two off during working hours to take care of personal or family matters (%, 15+ workers)  \\\n",
       "count                                         392.000000                                                                     \n",
       "mean                                           26.250000                                                                     \n",
       "std                                            10.936167                                                                     \n",
       "min                                            11.000000                                                                     \n",
       "25%                                            18.000000                                                                     \n",
       "50%                                            24.000000                                                                     \n",
       "75%                                            33.000000                                                                     \n",
       "max                                            56.000000                                                                     \n",
       "\n",
       "       Career Prospects Index (points, 0-100)  \\\n",
       "count                              392.000000   \n",
       "mean                                62.857143   \n",
       "std                                  5.110543   \n",
       "min                                 51.000000   \n",
       "25%                                 60.750000   \n",
       "50%                                 64.000000   \n",
       "75%                                 66.000000   \n",
       "max                                 73.000000   \n",
       "\n",
       "       Mean monthly earnings (PPS, working population)  \\\n",
       "count                                       392.000000   \n",
       "mean                                       2072.214286   \n",
       "std                                         731.696749   \n",
       "min                                         633.000000   \n",
       "25%                                        1463.000000   \n",
       "50%                                        2021.000000   \n",
       "75%                                        2657.000000   \n",
       "max                                        3625.000000   \n",
       "\n",
       "       Mean equivalised net income (PPS, 16+ population)  \\\n",
       "count                                          392.00000   \n",
       "mean                                         17278.40051   \n",
       "std                                           6556.50708   \n",
       "min                                           4196.00000   \n",
       "25%                                          11479.00000   \n",
       "50%                                          17788.50000   \n",
       "75%                                          22331.25000   \n",
       "max                                          39265.00000   \n",
       "\n",
       "       At-risk-of-poverty rate (%, 16+ population)  \\\n",
       "count                                   392.000000   \n",
       "mean                                     20.869898   \n",
       "std                                      17.881420   \n",
       "min                                       7.000000   \n",
       "25%                                      13.000000   \n",
       "50%                                      16.000000   \n",
       "75%                                      20.000000   \n",
       "max                                      90.000000   \n",
       "\n",
       "       S20/S80 income quintile share (16+ population)  \\\n",
       "count                                      392.000000   \n",
       "mean                                        25.665816   \n",
       "std                                         15.203582   \n",
       "min                                         12.000000   \n",
       "25%                                         18.000000   \n",
       "50%                                         22.000000   \n",
       "75%                                         26.000000   \n",
       "max                                         84.000000   \n",
       "\n",
       "       Graduates of tertiary education (%, 15+ population)  \\\n",
       "count                                         392.000000     \n",
       "mean                                           25.053571     \n",
       "std                                             7.616424     \n",
       "min                                            10.000000     \n",
       "25%                                            19.000000     \n",
       "50%                                            25.000000     \n",
       "75%                                            30.000000     \n",
       "max                                            45.000000     \n",
       "\n",
       "       People participating in formal or non-formal education and training (%, 15+ population)  \\\n",
       "count                                         392.000000                                         \n",
       "mean                                           17.099490                                         \n",
       "std                                             7.105547                                         \n",
       "min                                             8.000000                                         \n",
       "25%                                            13.000000                                         \n",
       "50%                                            15.000000                                         \n",
       "75%                                            19.000000                                         \n",
       "max                                            46.000000                                         \n",
       "\n",
       "       Tertiary students in the fields of Education, Health and Welfare, Humanities and Art (tertiary students) (%, 15+ population)  \\\n",
       "count                                         392.000000                                                                              \n",
       "mean                                           31.535714                                                                              \n",
       "std                                            12.656539                                                                              \n",
       "min                                            12.000000                                                                              \n",
       "25%                                            19.000000                                                                              \n",
       "50%                                            30.000000                                                                              \n",
       "75%                                            41.250000                                                                              \n",
       "max                                            58.000000                                                                              \n",
       "\n",
       "       People caring for and educating their children or grandchildren, elderly or people with disabilities, every day (% 18+ population)  \\\n",
       "count                                         392.000000                                                                                    \n",
       "mean                                           31.969388                                                                                    \n",
       "std                                             8.333158                                                                                    \n",
       "min                                            12.000000                                                                                    \n",
       "25%                                            25.000000                                                                                    \n",
       "50%                                            31.000000                                                                                    \n",
       "75%                                            38.000000                                                                                    \n",
       "max                                            50.000000                                                                                    \n",
       "\n",
       "       People doing cooking and/or housework, every day (%, 18+ population)  \\\n",
       "count                                         392.000000                      \n",
       "mean                                           54.750000                      \n",
       "std                                            25.038461                      \n",
       "min                                             9.000000                      \n",
       "25%                                            32.000000                      \n",
       "50%                                            57.000000                      \n",
       "75%                                            79.250000                      \n",
       "max                                            89.000000                      \n",
       "\n",
       "       Workers doing sporting, cultural or leisure activities outside of their home, at least daily or several times a week (%, 15+ workers)  \\\n",
       "count                                         392.000000                                                                                       \n",
       "mean                                           29.071429                                                                                       \n",
       "std                                            14.414400                                                                                       \n",
       "min                                             6.000000                                                                                       \n",
       "25%                                            18.000000                                                                                       \n",
       "50%                                            25.000000                                                                                       \n",
       "75%                                            39.250000                                                                                       \n",
       "max                                            60.000000                                                                                       \n",
       "\n",
       "       Workers involved in voluntary or charitable activities, at least once a month (%, 15+ workers)  \\\n",
       "count                                         392.000000                                                \n",
       "mean                                           12.252551                                                \n",
       "std                                             6.784215                                                \n",
       "min                                             2.000000                                                \n",
       "25%                                             7.000000                                                \n",
       "50%                                            11.000000                                                \n",
       "75%                                            16.000000                                                \n",
       "max                                            38.000000                                                \n",
       "\n",
       "       Share of ministers (%)  Share of members of parliament (%)  \\\n",
       "count              392.000000                          392.000000   \n",
       "mean                50.010204                           50.025510   \n",
       "std                 25.030823                           24.407231   \n",
       "min                  0.000000                            9.000000   \n",
       "25%                 28.000000                           27.000000   \n",
       "50%                 50.000000                           50.000000   \n",
       "75%                 72.250000                           73.000000   \n",
       "max                100.000000                           91.000000   \n",
       "\n",
       "       Share of members of regional assemblies (%)  \\\n",
       "count                                   392.000000   \n",
       "mean                                     50.000000   \n",
       "std                                      24.101979   \n",
       "min                                       9.000000   \n",
       "25%                                      26.000000   \n",
       "50%                                      50.000000   \n",
       "75%                                      74.000000   \n",
       "max                                      91.000000   \n",
       "\n",
       "       Share of members of boards in largest quoted companies, supervisory board or board of directors (%)  \\\n",
       "count                                         392.000000                                                     \n",
       "mean                                           50.076531                                                     \n",
       "std                                            30.951480                                                     \n",
       "min                                             2.000000                                                     \n",
       "25%                                            20.000000                                                     \n",
       "50%                                            50.000000                                                     \n",
       "75%                                            80.000000                                                     \n",
       "max                                            98.000000                                                     \n",
       "\n",
       "       Share of board members of central bank (%)  \\\n",
       "count                                  392.000000   \n",
       "mean                                    50.007653   \n",
       "std                                     33.075245   \n",
       "min                                      0.000000   \n",
       "25%                                     20.000000   \n",
       "50%                                     50.000000   \n",
       "75%                                     80.000000   \n",
       "max                                    100.000000   \n",
       "\n",
       "       Share of board members of research funding organisations (%)  \\\n",
       "count                                         392.000000              \n",
       "mean                                           50.007653              \n",
       "std                                            21.371933              \n",
       "min                                             0.000000              \n",
       "25%                                            37.000000              \n",
       "50%                                            50.000000              \n",
       "75%                                            63.000000              \n",
       "max                                           100.000000              \n",
       "\n",
       "       Share of board members of publically owned broadcasting organisations (%)  \\\n",
       "count                                         392.000000                           \n",
       "mean                                           50.020408                           \n",
       "std                                            23.612918                           \n",
       "min                                             0.000000                           \n",
       "25%                                            32.750000                           \n",
       "50%                                            50.000000                           \n",
       "75%                                            67.250000                           \n",
       "max                                           100.000000                           \n",
       "\n",
       "       Share of members of highest decision making body of the national Olympic sport organisations (%)  \\\n",
       "count                                         392.000000                                                  \n",
       "mean                                           50.000000                                                  \n",
       "std                                            35.749984                                                  \n",
       "min                                             2.000000                                                  \n",
       "25%                                            13.000000                                                  \n",
       "50%                                            50.000000                                                  \n",
       "75%                                            87.000000                                                  \n",
       "max                                            98.000000                                                  \n",
       "\n",
       "       Self-perceived health, good or very good (%, 16+ population)  \\\n",
       "count                                         392.000000              \n",
       "mean                                           66.772959              \n",
       "std                                            10.054683              \n",
       "min                                            38.000000              \n",
       "25%                                            62.000000              \n",
       "50%                                            69.000000              \n",
       "75%                                            73.000000              \n",
       "max                                            84.000000              \n",
       "\n",
       "       Life expectancy in absolute value at birth (years)  \\\n",
       "count                                         392.000000    \n",
       "mean                                           79.780612    \n",
       "std                                             4.220015    \n",
       "min                                            68.000000    \n",
       "25%                                            78.000000    \n",
       "50%                                            80.000000    \n",
       "75%                                            83.000000    \n",
       "max                                            87.000000    \n",
       "\n",
       "       Healthy life years in absolute value at birth (years)  \\\n",
       "count                                         392.000000       \n",
       "mean                                           61.933673       \n",
       "std                                             4.877600       \n",
       "min                                            51.000000       \n",
       "25%                                            58.000000       \n",
       "50%                                            62.000000       \n",
       "75%                                            65.000000       \n",
       "max                                            75.000000       \n",
       "\n",
       "       People who don’t smoke and are not involved in harmful drinking (%, 16+ population)  \\\n",
       "count                                         392.000000                                     \n",
       "mean                                           62.451531                                     \n",
       "std                                            11.956130                                     \n",
       "min                                            35.000000                                     \n",
       "25%                                            53.000000                                     \n",
       "50%                                            63.000000                                     \n",
       "75%                                            72.000000                                     \n",
       "max                                            85.000000                                     \n",
       "\n",
       "       People doing physical activities and/or consuming fruits and vegetables (%, 16+ population)  \\\n",
       "count                                         392.000000                                             \n",
       "mean                                           37.571429                                             \n",
       "std                                            13.310189                                             \n",
       "min                                             6.000000                                             \n",
       "25%                                            29.000000                                             \n",
       "50%                                            36.000000                                             \n",
       "75%                                            47.000000                                             \n",
       "max                                            75.000000                                             \n",
       "\n",
       "       Population with unmet needs for medical examination (%, 16+ population)  \\\n",
       "count                                         392.000000                         \n",
       "mean                                            5.206633                         \n",
       "std                                             4.261366                         \n",
       "min                                             0.000000                         \n",
       "25%                                             2.000000                         \n",
       "50%                                             4.000000                         \n",
       "75%                                             7.000000                         \n",
       "max                                            22.000000                         \n",
       "\n",
       "       People with unmet needs for dental examination (%, 16+ population)  \\\n",
       "count                                         392.000000                    \n",
       "mean                                            5.750000                    \n",
       "std                                             4.140592                    \n",
       "min                                             0.000000                    \n",
       "25%                                             3.000000                    \n",
       "50%                                             5.000000                    \n",
       "75%                                             7.000000                    \n",
       "max                                            22.000000                    \n",
       "\n",
       "        Index year  Gender Equality Index  \n",
       "count   392.000000             392.000000  \n",
       "mean   2018.142857              63.312071  \n",
       "std       3.047787               8.698087  \n",
       "min    2013.000000              48.614853  \n",
       "25%    2015.000000              55.781477  \n",
       "50%    2019.000000              62.154167  \n",
       "75%    2021.000000              70.153497  \n",
       "max    2022.000000              83.946452  "
      ]
     },
     "execution_count": 79,
     "metadata": {},
     "output_type": "execute_result"
    }
   ],
   "source": [
    "df1.describe()"
   ]
  },
  {
   "cell_type": "code",
   "execution_count": 74,
   "metadata": {},
   "outputs": [],
   "source": [
    "list_columns = list(df1.columns)"
   ]
  },
  {
   "cell_type": "code",
   "execution_count": 42,
   "metadata": {},
   "outputs": [],
   "source": [
    "#Acortamos los nombres de las variables para que sea más fácil trabajar con ellas. "
   ]
  },
  {
   "cell_type": "code",
   "execution_count": 84,
   "metadata": {},
   "outputs": [],
   "source": [
    "nuevos_nombres = ['Country',\n",
    "'FTE',\n",
    "'DWL',\n",
    "'EPEHHASWA',\n",
    "'ATTAOTDWH',\n",
    "'CPI',\n",
    "'MME',\n",
    "'MENI',\n",
    "'ARP',\n",
    "'S20/S80IQ',\n",
    "'GTE',\n",
    "'PFNFEAT',\n",
    "'TSEFEHWA',\n",
    "'PCAEPTCGEOPD',\n",
    "'PDCAHE',\n",
    "'WDSCLOTHAODOSTW',\n",
    "'WIVORCAAOM',\n",
    "'SOM',\n",
    "'SOMP',\n",
    "'SOMRA',\n",
    "'SOMBILQCSBOD',\n",
    "'SOBMCB',\n",
    "'SOBMRFO',\n",
    "'SOBMPBO',\n",
    "'SMDMBNO',\n",
    "'SPHGVO',\n",
    "'LEIAVAB',\n",
    "'HLYIAAB',\n",
    "'PWDSANII',\n",
    "'PDPAACFV',\n",
    "'PWUNFME',\n",
    "'PWUNFDE',\n",
    "'Sexo',\n",
    "'Index_year',\n",
    "'ID_Country',\n",
    "'GEI']"
   ]
  },
  {
   "cell_type": "code",
   "execution_count": 85,
   "metadata": {},
   "outputs": [
    {
     "data": {
      "text/plain": [
       "36"
      ]
     },
     "execution_count": 85,
     "metadata": {},
     "output_type": "execute_result"
    }
   ],
   "source": [
    "len(list_columns)"
   ]
  },
  {
   "cell_type": "code",
   "execution_count": 86,
   "metadata": {},
   "outputs": [
    {
     "data": {
      "text/plain": [
       "36"
      ]
     },
     "execution_count": 86,
     "metadata": {},
     "output_type": "execute_result"
    }
   ],
   "source": [
    "len(nuevos_nombres)"
   ]
  },
  {
   "cell_type": "code",
   "execution_count": 87,
   "metadata": {},
   "outputs": [],
   "source": [
    "df1.columns = nuevos_nombres"
   ]
  },
  {
   "cell_type": "code",
   "execution_count": 88,
   "metadata": {},
   "outputs": [
    {
     "name": "stdout",
     "output_type": "stream",
     "text": [
      "Diccionario de mapeo de variables:\n",
      "{'Geographic region\\\\Individual indicators used to compute the Gender Equality Index': 'Country', 'FTE employment rate (%,  15+ population)': 'FTE', 'Duration of working life (years, 15+ population)': 'DWL', 'Employed people in Education, Human Health and Social Work activities (%, 15+ employed)': 'EPEHHASWA', 'Ability to take an hour or two off during working hours to take care of personal or family matters (%, 15+ workers)': 'ATTAOTDWH', 'Career Prospects Index (points, 0-100)': 'CPI', 'Mean monthly earnings (PPS, working population)': 'MME', 'Mean equivalised net income (PPS, 16+ population)': 'MENI', 'At-risk-of-poverty rate (%, 16+ population)': 'ARP', 'S20/S80 income quintile share (16+ population)': 'S20/S80IQ', 'Graduates of tertiary education (%, 15+ population)': 'GTE', 'People participating in formal or non-formal education and training (%, 15+ population)': 'PFNFEAT', 'Tertiary students in the fields of Education, Health and Welfare, Humanities and Art (tertiary students) (%, 15+ population)': 'TSEFEHWA', 'People caring for and educating their children or grandchildren, elderly or people with disabilities, every day (% 18+ population)': 'PCAEPTCGEOPD', 'People doing cooking and/or housework, every day (%, 18+ population)': 'PDCAHE', 'Workers doing sporting, cultural or leisure activities outside of their home, at least daily or several times a week (%, 15+ workers)': 'WDSCLOTHAODOSTW', 'Workers involved in voluntary or charitable activities, at least once a month (%, 15+ workers)': 'WIVORCAAOM', 'Share of ministers (%)': 'SOM', 'Share of members of parliament (%)': 'SOMP', 'Share of members of regional assemblies (%)': 'SOMRA', 'Share of members of boards in largest quoted companies, supervisory board or board of directors (%)': 'SOMBILQCSBOD', 'Share of board members of central bank (%)': 'SOBMCB', 'Share of board members of research funding organisations (%)': 'SOBMRFO', 'Share of board members of publically owned broadcasting organisations (%)': 'SOBMPBO', 'Share of members of highest decision making body of the national Olympic sport organisations (%)': 'SMDMBNO', 'Self-perceived health, good or very good (%, 16+ population)': 'SPHGVO', 'Life expectancy in absolute value at birth (years)': 'LEIAVAB', 'Healthy life years in absolute value at birth (years)': 'HLYIAAB', 'People who don’t smoke and are not involved in harmful drinking (%, 16+ population)': 'PWDSANII', 'People doing physical activities and/or consuming fruits and vegetables (%, 16+ population)': 'PDPAACFV', 'Population with unmet needs for medical examination (%, 16+ population)': 'PWUNFME', 'People with unmet needs for dental examination (%, 16+ population)': 'PWUNFDE', 'Sexo': 'Sexo', 'Index year': 'Index_year', 'Country': 'ID_Country', 'Gender Equality Index': 'GEI'}\n"
     ]
    }
   ],
   "source": [
    "mapeo_variables = {}\n",
    "\n",
    "# Verificación de longitudes iguales entre las listas de variables antiguas y nuevas\n",
    "if len(list_columns) == len(nuevos_nombres):\n",
    "    for i in range(len(list_columns)):\n",
    "        mapeo_variables[list_columns[i]] = nuevos_nombres[i]\n",
    "else:\n",
    "    print(\"Las listas de variables antiguas y nuevas no tienen la misma longitud\")\n",
    "\n",
    "# Imprimir el diccionario creado\n",
    "print(\"Diccionario de mapeo de variables:\")\n",
    "print(mapeo_variables)"
   ]
  },
  {
   "cell_type": "code",
   "execution_count": 89,
   "metadata": {},
   "outputs": [
    {
     "data": {
      "text/plain": [
       "{'Geographic region\\\\Individual indicators used to compute the Gender Equality Index': 'Country',\n",
       " 'FTE employment rate (%,  15+ population)': 'FTE',\n",
       " 'Duration of working life (years, 15+ population)': 'DWL',\n",
       " 'Employed people in Education, Human Health and Social Work activities (%, 15+ employed)': 'EPEHHASWA',\n",
       " 'Ability to take an hour or two off during working hours to take care of personal or family matters (%, 15+ workers)': 'ATTAOTDWH',\n",
       " 'Career Prospects Index (points, 0-100)': 'CPI',\n",
       " 'Mean monthly earnings (PPS, working population)': 'MME',\n",
       " 'Mean equivalised net income (PPS, 16+ population)': 'MENI',\n",
       " 'At-risk-of-poverty rate (%, 16+ population)': 'ARP',\n",
       " 'S20/S80 income quintile share (16+ population)': 'S20/S80IQ',\n",
       " 'Graduates of tertiary education (%, 15+ population)': 'GTE',\n",
       " 'People participating in formal or non-formal education and training (%, 15+ population)': 'PFNFEAT',\n",
       " 'Tertiary students in the fields of Education, Health and Welfare, Humanities and Art (tertiary students) (%, 15+ population)': 'TSEFEHWA',\n",
       " 'People caring for and educating their children or grandchildren, elderly or people with disabilities, every day (% 18+ population)': 'PCAEPTCGEOPD',\n",
       " 'People doing cooking and/or housework, every day (%, 18+ population)': 'PDCAHE',\n",
       " 'Workers doing sporting, cultural or leisure activities outside of their home, at least daily or several times a week (%, 15+ workers)': 'WDSCLOTHAODOSTW',\n",
       " 'Workers involved in voluntary or charitable activities, at least once a month (%, 15+ workers)': 'WIVORCAAOM',\n",
       " 'Share of ministers (%)': 'SOM',\n",
       " 'Share of members of parliament (%)': 'SOMP',\n",
       " 'Share of members of regional assemblies (%)': 'SOMRA',\n",
       " 'Share of members of boards in largest quoted companies, supervisory board or board of directors (%)': 'SOMBILQCSBOD',\n",
       " 'Share of board members of central bank (%)': 'SOBMCB',\n",
       " 'Share of board members of research funding organisations (%)': 'SOBMRFO',\n",
       " 'Share of board members of publically owned broadcasting organisations (%)': 'SOBMPBO',\n",
       " 'Share of members of highest decision making body of the national Olympic sport organisations (%)': 'SMDMBNO',\n",
       " 'Self-perceived health, good or very good (%, 16+ population)': 'SPHGVO',\n",
       " 'Life expectancy in absolute value at birth (years)': 'LEIAVAB',\n",
       " 'Healthy life years in absolute value at birth (years)': 'HLYIAAB',\n",
       " 'People who don’t smoke and are not involved in harmful drinking (%, 16+ population)': 'PWDSANII',\n",
       " 'People doing physical activities and/or consuming fruits and vegetables (%, 16+ population)': 'PDPAACFV',\n",
       " 'Population with unmet needs for medical examination (%, 16+ population)': 'PWUNFME',\n",
       " 'People with unmet needs for dental examination (%, 16+ population)': 'PWUNFDE',\n",
       " 'Sexo': 'Sexo',\n",
       " 'Index year': 'Index_year',\n",
       " 'Country': 'ID_Country',\n",
       " 'Gender Equality Index': 'GEI'}"
      ]
     },
     "execution_count": 89,
     "metadata": {},
     "output_type": "execute_result"
    }
   ],
   "source": [
    "mapeo_variables"
   ]
  },
  {
   "cell_type": "markdown",
   "metadata": {},
   "source": [
    "### EDA"
   ]
  },
  {
   "cell_type": "markdown",
   "metadata": {},
   "source": [
    "#### Distribución del target\n",
    "Cada modelo tendrá un target distinto. No obstante, el target general del proyecto es el GEI."
   ]
  },
  {
   "cell_type": "code",
   "execution_count": 107,
   "metadata": {},
   "outputs": [],
   "source": [
    "gb_df = df1.groupby(['Index_year','ID_Country'])['GEI'].mean().reset_index()"
   ]
  },
  {
   "cell_type": "code",
   "execution_count": 115,
   "metadata": {},
   "outputs": [
    {
     "data": {
      "image/png": "[encoded data removed]",
      "text/plain": [
       "<Figure size 1000x600 with 1 Axes>"
      ]
     },
     "metadata": {},
     "output_type": "display_data"
    },
    {
     "data": {
      "image/png": "[encoded data removed]",
      "text/plain": [
       "<Figure size 1000x600 with 1 Axes>"
      ]
     },
     "metadata": {},
     "output_type": "display_data"
    },
    {
     "data": {
      "image/png": "[encoded data removed]",
      "text/plain": [
       "<Figure size 1000x600 with 1 Axes>"
      ]
     },
     "metadata": {},
     "output_type": "display_data"
    },
    {
     "data": {
      "image/png": "[encoded data removed]",
      "text/plain": [
       "<Figure size 1000x600 with 1 Axes>"
      ]
     },
     "metadata": {},
     "output_type": "display_data"
    },
    {
     "data": {
      "image/png": "[encoded data removed]",
      "text/plain": [
       "<Figure size 1000x600 with 1 Axes>"
      ]
     },
     "metadata": {},
     "output_type": "display_data"
    },
    {
     "data": {
      "image/png": "[encoded data removed]",
      "text/plain": [
       "<Figure size 1000x600 with 1 Axes>"
      ]
     },
     "metadata": {},
     "output_type": "display_data"
    },
    {
     "data": {
      "image/png": "[encoded data removed]",
      "text/plain": [
       "<Figure size 1000x600 with 1 Axes>"
      ]
     },
     "metadata": {},
     "output_type": "display_data"
    }
   ],
   "source": [
    "unique_years = gb_df['Index_year'].unique()\n",
    "\n",
    "for year in unique_years:\n",
    "    plt.figure(figsize=(10, 6))\n",
    "    df_year = gb_df[gb_df['Index_year'] == year]\n",
    "    plt.bar(df_year['ID_Country'], df_year['GEI'], color='skyblue')\n",
    "    plt.title('Gender Equality Index for year ' + str(year))\n",
    "    plt.xlabel('País')\n",
    "    plt.ylabel('GEI')\n",
    "    plt.show()\n"
   ]
  },
  {
   "cell_type": "markdown",
   "metadata": {},
   "source": [
    "#### Análisis Univariable"
   ]
  },
  {
   "cell_type": "code",
   "execution_count": 117,
   "metadata": {},
   "outputs": [],
   "source": [
    "def nulos (data):\n",
    "  nulos = pd.DataFrame()\n",
    "\n",
    "  variables_con_nulos = []\n",
    "  for i in df:\n",
    "    if df[i].isnull().any()==True:\n",
    "      variables_con_nulos.append(i)\n",
    "\n",
    "  total_nulos = []\n",
    "  for i in variables_con_nulos:\n",
    "    total_nulos.append(df[i].isnull().sum())\n",
    "\n",
    "  nulos['Variables con nulos'] = variables_con_nulos\n",
    "  nulos['Total de nulos'] = total_nulos\n",
    "\n",
    "  return nulos"
   ]
  },
  {
   "cell_type": "code",
   "execution_count": 118,
   "metadata": {},
   "outputs": [
    {
     "data": {
      "text/html": [
       "<div>\n",
       "<style scoped>\n",
       "    .dataframe tbody tr th:only-of-type {\n",
       "        vertical-align: middle;\n",
       "    }\n",
       "\n",
       "    .dataframe tbody tr th {\n",
       "        vertical-align: top;\n",
       "    }\n",
       "\n",
       "    .dataframe thead th {\n",
       "        text-align: right;\n",
       "    }\n",
       "</style>\n",
       "<table border=\"1\" class=\"dataframe\">\n",
       "  <thead>\n",
       "    <tr style=\"text-align: right;\">\n",
       "      <th></th>\n",
       "      <th>Variables con nulos</th>\n",
       "      <th>Total de nulos</th>\n",
       "    </tr>\n",
       "  </thead>\n",
       "  <tbody>\n",
       "  </tbody>\n",
       "</table>\n",
       "</div>"
      ],
      "text/plain": [
       "Empty DataFrame\n",
       "Columns: [Variables con nulos, Total de nulos]\n",
       "Index: []"
      ]
     },
     "execution_count": 118,
     "metadata": {},
     "output_type": "execute_result"
    }
   ],
   "source": [
    "# No tenemos variables con nulos\n",
    "nulos(df1)"
   ]
  },
  {
   "cell_type": "code",
   "execution_count": 123,
   "metadata": {},
   "outputs": [
    {
     "name": "stdout",
     "output_type": "stream",
     "text": [
      "Columnas booleanas: ['Sexo']\n",
      "Columnas numéricas: ['FTE', 'DWL', 'EPEHHASWA', 'ATTAOTDWH', 'CPI', 'MME', 'MENI', 'ARP', 'S20/S80IQ', 'GTE', 'PFNFEAT', 'TSEFEHWA', 'PCAEPTCGEOPD', 'PDCAHE', 'WDSCLOTHAODOSTW', 'WIVORCAAOM', 'SOM', 'SOMP', 'SOMRA', 'SOMBILQCSBOD', 'SOBMCB', 'SOBMRFO', 'SOBMPBO', 'SMDMBNO', 'SPHGVO', 'LEIAVAB', 'HLYIAAB', 'PWDSANII', 'PDPAACFV', 'PWUNFME', 'PWUNFDE', 'Index_year', 'GEI']\n",
      "Columnas object: ['Country', 'ID_Country']\n"
     ]
    }
   ],
   "source": [
    "# Separamos nuestro dataset entre columnas numericas, booleanas y object\n",
    "\n",
    "# Filtrar las columnas booleanas (dos valores únicos)\n",
    "boolean_columns = [col for col in df1.columns if df1[col].nunique() == 2]\n",
    "\n",
    "# Obtener las columnas numéricas\n",
    "numeric_columns = df1.select_dtypes(include=np.number).columns.tolist()\n",
    "numeric_columns = [col for col in numeric_columns if df1[col].nunique() > 2]\n",
    "\n",
    "# Filtrar las columnas object (string y más de dos valores únicos)\n",
    "object_columns = df1.select_dtypes(include=object).columns.tolist()\n",
    "object_columns = [col for col in object_columns if df1[col].nunique() > 2]\n",
    "\n",
    "# Mostrar las listas resultantes\n",
    "print(\"Columnas booleanas:\", boolean_columns)\n",
    "print(\"Columnas numéricas:\", numeric_columns)\n",
    "print(\"Columnas object:\", object_columns)"
   ]
  },
  {
   "cell_type": "code",
   "execution_count": 129,
   "metadata": {},
   "outputs": [],
   "source": [
    "# Las columnas object son las mismas. Creamos un diccionario con el mapeo de siglas y eliminamos 'Country' \n",
    "dict_country = dict(zip(df1['Country'], df1['ID_Country']))"
   ]
  },
  {
   "cell_type": "code",
   "execution_count": 131,
   "metadata": {},
   "outputs": [],
   "source": [
    "del df1['Country']"
   ]
  },
  {
   "cell_type": "code",
   "execution_count": null,
   "metadata": {},
   "outputs": [],
   "source": [
    "# La única columna booleana es 'Sexo\". Contiene la misma cantidad para ambas categorías."
   ]
  },
  {
   "cell_type": "code",
   "execution_count": 145,
   "metadata": {},
   "outputs": [
    {
     "data": {
      "text/plain": [
       "Index_year\n",
       "2013    56\n",
       "2015    56\n",
       "2017    56\n",
       "2019    56\n",
       "2020    56\n",
       "2021    56\n",
       "2022    56\n",
       "Name: count, dtype: int64"
      ]
     },
     "execution_count": 145,
     "metadata": {},
     "output_type": "execute_result"
    }
   ],
   "source": [
    "df1['Index_year'].value_counts()"
   ]
  },
  {
   "cell_type": "code",
   "execution_count": 159,
   "metadata": {},
   "outputs": [],
   "source": [
    "for i in df1['Index_year'].value_counts().index:\n",
    "    nombre = 'df_' + str(i)\n",
    "    globals()[nombre] = df1[df1['Index_year'] == i]"
   ]
  },
  {
   "cell_type": "code",
   "execution_count": null,
   "metadata": {},
   "outputs": [],
   "source": [
    "# Distribucion variables numéricas en el 2022\n",
    "for i in numeric_columns:\n",
    "  plt.hist(df_2022[i])\n",
    "  plt.title('Distribucion '+i)\n",
    "  plt.show()"
   ]
  },
  {
   "cell_type": "code",
   "execution_count": null,
   "metadata": {},
   "outputs": [],
   "source": [
    "# Distribucion variables numéricas en el 2021\n",
    "for i in numeric_columns:\n",
    "  plt.hist(df_2021[i])\n",
    "  plt.title('Distribucion '+i)\n",
    "  plt.show()"
   ]
  },
  {
   "cell_type": "markdown",
   "metadata": {},
   "source": [
    "### Preprocessing"
   ]
  },
  {
   "cell_type": "markdown",
   "metadata": {},
   "source": [
    "#### Categóricas a numéricas"
   ]
  },
  {
   "cell_type": "code",
   "execution_count": 199,
   "metadata": {},
   "outputs": [],
   "source": [
    "# Definir un diccionario de mapeo\n",
    "mapeo_genero = {'men': 0, 'women': 1}\n",
    "\n",
    "# Aplicar la transformación a la columna 'Género'\n",
    "df1['Sexo'] = df1['Sexo'].map(mapeo_genero)"
   ]
  },
  {
   "cell_type": "code",
   "execution_count": 207,
   "metadata": {},
   "outputs": [
    {
     "data": {
      "text/plain": [
       "Sexo\n",
       "0    196\n",
       "1    196\n",
       "Name: count, dtype: int64"
      ]
     },
     "execution_count": 207,
     "metadata": {},
     "output_type": "execute_result"
    }
   ],
   "source": [
    "df1['Sexo'].value_counts()"
   ]
  },
  {
   "cell_type": "code",
   "execution_count": 210,
   "metadata": {},
   "outputs": [
    {
     "name": "stdout",
     "output_type": "stream",
     "text": [
      "Columnas numéricas: ['FTE', 'DWL', 'EPEHHASWA', 'ATTAOTDWH', 'CPI', 'MME', 'MENI', 'ARP', 'S20/S80IQ', 'GTE', 'PFNFEAT', 'TSEFEHWA', 'PCAEPTCGEOPD', 'PDCAHE', 'WDSCLOTHAODOSTW', 'WIVORCAAOM', 'SOM', 'SOMP', 'SOMRA', 'SOMBILQCSBOD', 'SOBMCB', 'SOBMRFO', 'SOBMPBO', 'SMDMBNO', 'SPHGVO', 'LEIAVAB', 'HLYIAAB', 'PWDSANII', 'PDPAACFV', 'PWUNFME', 'PWUNFDE', 'Sexo', 'Index_year', 'GEI']\n",
      "Columnas object: ['ID_Country']\n"
     ]
    }
   ],
   "source": [
    "# Obtener las columnas numéricas\n",
    "numeric_columns = df1.select_dtypes(include=np.number).columns.tolist()\n",
    "\n",
    "\n",
    "# Filtrar las columnas object (string y más de dos valores únicos)\n",
    "object_columns = df1.select_dtypes(include=object).columns.tolist()\n",
    "\n",
    "\n",
    "# Mostrar las listas resultantes\n",
    "print(\"Columnas numéricas:\", numeric_columns)\n",
    "print(\"Columnas object:\", object_columns)"
   ]
  },
  {
   "cell_type": "markdown",
   "metadata": {},
   "source": [
    "#### Correlación"
   ]
  },
  {
   "cell_type": "code",
   "execution_count": 215,
   "metadata": {},
   "outputs": [
    {
     "data": {
      "text/html": [
       "<div>\n",
       "<style scoped>\n",
       "    .dataframe tbody tr th:only-of-type {\n",
       "        vertical-align: middle;\n",
       "    }\n",
       "\n",
       "    .dataframe tbody tr th {\n",
       "        vertical-align: top;\n",
       "    }\n",
       "\n",
       "    .dataframe thead th {\n",
       "        text-align: right;\n",
       "    }\n",
       "</style>\n",
       "<table border=\"1\" class=\"dataframe\">\n",
       "  <thead>\n",
       "    <tr style=\"text-align: right;\">\n",
       "      <th></th>\n",
       "      <th>F1</th>\n",
       "      <th>F2</th>\n",
       "      <th>corr_F1_F2</th>\n",
       "    </tr>\n",
       "  </thead>\n",
       "  <tbody>\n",
       "    <tr>\n",
       "      <th>0</th>\n",
       "      <td>SOMRA</td>\n",
       "      <td>SOMP</td>\n",
       "      <td>0.965312</td>\n",
       "    </tr>\n",
       "    <tr>\n",
       "      <th>1</th>\n",
       "      <td>SOMBILQCSBOD</td>\n",
       "      <td>SOMP</td>\n",
       "      <td>0.954567</td>\n",
       "    </tr>\n",
       "    <tr>\n",
       "      <th>2</th>\n",
       "      <td>SMDMBNO</td>\n",
       "      <td>SOMP</td>\n",
       "      <td>0.950180</td>\n",
       "    </tr>\n",
       "    <tr>\n",
       "      <th>3</th>\n",
       "      <td>SMDMBNO</td>\n",
       "      <td>SOMBILQCSBOD</td>\n",
       "      <td>0.958430</td>\n",
       "    </tr>\n",
       "    <tr>\n",
       "      <th>4</th>\n",
       "      <td>Sexo</td>\n",
       "      <td>SMDMBNO</td>\n",
       "      <td>0.965840</td>\n",
       "    </tr>\n",
       "  </tbody>\n",
       "</table>\n",
       "</div>"
      ],
      "text/plain": [
       "             F1            F2  corr_F1_F2\n",
       "0         SOMRA          SOMP    0.965312\n",
       "1  SOMBILQCSBOD          SOMP    0.954567\n",
       "2       SMDMBNO          SOMP    0.950180\n",
       "3       SMDMBNO  SOMBILQCSBOD    0.958430\n",
       "4          Sexo       SMDMBNO    0.965840"
      ]
     },
     "execution_count": 215,
     "metadata": {},
     "output_type": "execute_result"
    }
   ],
   "source": [
    "# Función correlación\n",
    "def highly_correlated(df, threshold):\n",
    "    col_corr = list() # Set of all the names of deleted columns\n",
    "    colnames = list()\n",
    "    rownames = list()\n",
    "    corr_matrix = df.corr().abs()\n",
    "    for i in range(len(corr_matrix.columns)):\n",
    "        for j in range(i):\n",
    "            if (corr_matrix.iloc[i, j] >= threshold) and (corr_matrix.columns[j] not in col_corr):\n",
    "                colnames.append(corr_matrix.columns[i]) # getting the name of column\n",
    "                rownames.append(corr_matrix.index[j])\n",
    "                col_corr.append(corr_matrix.iloc[i, j])\n",
    "    Z = pd.DataFrame({'F1':colnames,\n",
    "                      'F2':rownames,\n",
    "                      'corr_F1_F2':col_corr,\n",
    "                      })\n",
    "\n",
    "    return Z\n",
    "\n",
    "highly_corr = highly_correlated(df1[numeric_columns],0.95)\n",
    "highly_corr"
   ]
  },
  {
   "cell_type": "markdown",
   "metadata": {},
   "source": [
    "#### Varianza"
   ]
  },
  {
   "cell_type": "code",
   "execution_count": 192,
   "metadata": {},
   "outputs": [],
   "source": [
    "from sklearn.feature_selection import VarianceThreshold"
   ]
  },
  {
   "cell_type": "code",
   "execution_count": 214,
   "metadata": {},
   "outputs": [
    {
     "name": "stdout",
     "output_type": "stream",
     "text": [
      "0 low variance features should be removed:\n",
      " []\n"
     ]
    }
   ],
   "source": [
    "vt = VarianceThreshold(threshold=0.01)\n",
    "vt.fit(df1[numeric_columns])\n",
    "\n",
    "# Obtener las columnas con baja varianza\n",
    "low_var_columns = [col for col, keep in zip(numeric_columns, vt.get_support()) if not keep]\n",
    "\n",
    "print(len(low_var_columns), 'low variance features should be removed:\\n', low_var_columns)"
   ]
  },
  {
   "cell_type": "markdown",
   "metadata": {},
   "source": [
    "### Dataframe para modelos y guardar diccionarios de variables"
   ]
  },
  {
   "cell_type": "code",
   "execution_count": 216,
   "metadata": {},
   "outputs": [],
   "source": [
    "df1.to_excel(r'C:\\Users\\andre\\OneDrive\\Documentos\\BOOTCAMP\\Capstone Project\\capstone2030\\df_modelo.xlsx', index=False)"
   ]
  },
  {
   "cell_type": "code",
   "execution_count": 219,
   "metadata": {},
   "outputs": [],
   "source": [
    "dic_variables = pd.DataFrame(list(mapeo_variables.items()), columns=['Variable', 'Valor'])"
   ]
  },
  {
   "cell_type": "code",
   "execution_count": 220,
   "metadata": {},
   "outputs": [],
   "source": [
    "dic_variables.to_excel(r'C:\\Users\\andre\\OneDrive\\Documentos\\BOOTCAMP\\Capstone Project\\capstone2030\\dict_variables.xlsx', index=False)"
   ]
  },
  {
   "cell_type": "code",
   "execution_count": 221,
   "metadata": {},
   "outputs": [],
   "source": [
    "dic_country = pd.DataFrame(list(dict_country.items()), columns=['Variable', 'Valor'])"
   ]
  },
  {
   "cell_type": "code",
   "execution_count": 222,
   "metadata": {},
   "outputs": [],
   "source": [
    "dic_country.to_excel(r'C:\\Users\\andre\\OneDrive\\Documentos\\BOOTCAMP\\Capstone Project\\capstone2030\\dict_countries.xlsx', index=False)"
   ]
  }
 ],
 "metadata": {
  "kernelspec": {
   "display_name": "Python 3",
   "language": "python",
   "name": "python3"
  },
  "language_info": {
   "codemirror_mode": {
    "name": "ipython",
    "version": 3
   },
   "file_extension": ".py",
   "mimetype": "text/x-python",
   "name": "python",
   "nbconvert_exporter": "python",
   "pygments_lexer": "ipython3",
   "version": "3.12.0"
  }
 },
 "nbformat": 4,
 "nbformat_minor": 2
}
